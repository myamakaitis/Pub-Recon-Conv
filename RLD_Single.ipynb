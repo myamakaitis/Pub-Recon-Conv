{
 "cells": [
  {
   "cell_type": "code",
   "execution_count": null,
   "metadata": {
    "ExecuteTime": {
     "end_time": "2025-02-10T23:55:15.678379Z",
     "start_time": "2025-02-10T23:55:15.673743Z"
    }
   },
   "outputs": [],
   "source": [
    "# Imports\n",
    "import numpy as np\n",
    "from cv2 import imread, imwrite\n",
    "# import pandas as pd\n",
    "import matplotlib.pyplot as plt\n",
    "from typing import Sequence\n",
    "\n",
    "from skimage.morphology import area_opening, disk\n",
    "from skimage.filters import median, gaussian\n",
    "\n",
    "from PSFtools import *\n",
    "\n",
    "from time import perf_counter\n",
    "from Bindings_RLD import RLD_cpp, RLDf_cpp\n",
    "from Bindings_SART import SART_cpp, SARTf_cpp\n",
    "from Bindings_SMART import SMART_cpp, SMARTf_cpp\n",
    "\n",
    "from Bindings_ArrayChecks import *"
   ]
  },
  {
   "cell_type": "code",
   "execution_count": null,
   "metadata": {
    "ExecuteTime": {
     "end_time": "2025-02-10T23:55:15.694362Z",
     "start_time": "2025-02-10T23:55:15.691293Z"
    },
    "collapsed": false,
    "jupyter": {
     "outputs_hidden": false
    }
   },
   "outputs": [],
   "source": [
    "dtype_choice = {\"single\":np.float32, \"double\":np.float64}\n",
    "\n",
    "rld_choice = {\"single\": RLDf_cpp, \"double\": RLD_cpp}\n",
    "sart_choice = {\"single\": SARTf_cpp, \"double\": SART_cpp}\n",
    "smart_choice = {\"single\": SARTf_cpp, \"double\": SART_cpp}\n"
   ]
  },
  {
   "cell_type": "markdown",
   "metadata": {
    "collapsed": false,
    "jupyter": {
     "outputs_hidden": false
    }
   },
   "source": [
    "# Reconstruction Settings\n",
    "## Precision"
   ]
  },
  {
   "cell_type": "code",
   "execution_count": null,
   "metadata": {
    "ExecuteTime": {
     "end_time": "2025-02-10T23:55:15.707777Z",
     "start_time": "2025-02-10T23:55:15.705011Z"
    },
    "collapsed": false,
    "jupyter": {
     "outputs_hidden": false
    }
   },
   "outputs": [],
   "source": [
    "Precision = \"single\" # either 'single' or 'double'\n",
    "\n",
    "DataType = dtype_choice[Precision]\n",
    "RLD = rld_choice[Precision]"
   ]
  },
  {
   "cell_type": "code",
   "execution_count": null,
   "metadata": {
    "ExecuteTime": {
     "end_time": "2025-02-10T23:55:15.720937Z",
     "start_time": "2025-02-10T23:55:15.718323Z"
    }
   },
   "outputs": [],
   "source": [
    "z_cal_step = 20 # [um] between PSF images\n",
    "z0 = 0 # PSF# representing z = 0"
   ]
  },
  {
   "cell_type": "code",
   "execution_count": null,
   "metadata": {
    "ExecuteTime": {
     "end_time": "2025-02-10T23:55:15.734264Z",
     "start_time": "2025-02-10T23:55:15.731883Z"
    },
    "collapsed": false,
    "jupyter": {
     "outputs_hidden": false
    }
   },
   "outputs": [],
   "source": [
    "def zToIndex(z):\n",
    "    return int(z0 + z/z_cal_step)"
   ]
  },
  {
   "cell_type": "markdown",
   "metadata": {},
   "source": [
    "## Image and Range"
   ]
  },
  {
   "cell_type": "code",
   "execution_count": null,
   "metadata": {
    "ExecuteTime": {
     "end_time": "2025-02-10T23:55:15.748468Z",
     "start_time": "2025-02-10T23:55:15.745557Z"
    },
    "collapsed": false,
    "jupyter": {
     "outputs_hidden": false
    }
   },
   "outputs": [],
   "source": [
    "# If the central PSF is not centered use these offsets\n",
    "# They are the offset between the center of the image and the center of the central view\n",
    "\n",
    "VerticalOffset = -50 # [pixels], Positive is up ^\n",
    "HorizontalOffset = 50 # [pixels], Positive is right ->\n",
    "\n",
    "# Assuming Circular Elemental View\n",
    "# This is the radius of the elemental image in pixels\n",
    "EI_radius = 220 # [pixels]\n",
    "\n",
    "# Depth Range\n",
    "z_min = -2000 # [um]\n",
    "z_max = 500 # [um]\n",
    "\n",
    "# Step Size\n",
    "z_step = 20 # [um]\n",
    "\n",
    "# Number of Iters\n",
    "ITERS = 50"
   ]
  },
  {
   "cell_type": "code",
   "execution_count": null,
   "metadata": {
    "ExecuteTime": {
     "end_time": "2025-02-10T23:55:15.761551Z",
     "start_time": "2025-02-10T23:55:15.759304Z"
    }
   },
   "outputs": [],
   "source": [
    "FLAG = \"LABEL\""
   ]
  },
  {
   "cell_type": "code",
   "execution_count": null,
   "metadata": {
    "ExecuteTime": {
     "end_time": "2025-02-10T23:55:15.838048Z",
     "start_time": "2025-02-10T23:55:15.830315Z"
    },
    "collapsed": false,
    "jupyter": {
     "outputs_hidden": false
    }
   },
   "outputs": [],
   "source": [
    "# z_min = -2000\n",
    "# z_max = 300\n",
    "# z_step = 40\n",
    "\n",
    "zPlanes = np.arange(z_min, z_max+z_step/2, z_step)\n",
    "\n",
    "zPlanes"
   ]
  },
  {
   "cell_type": "markdown",
   "metadata": {
    "collapsed": false,
    "jupyter": {
     "outputs_hidden": false
    }
   },
   "source": [
    "# Load PSF Stack"
   ]
  },
  {
   "cell_type": "markdown",
   "metadata": {},
   "source": [
    "## Specify PSF Filepaths"
   ]
  },
  {
   "cell_type": "code",
   "execution_count": null,
   "metadata": {
    "ExecuteTime": {
     "end_time": "2025-02-10T23:55:15.879250Z",
     "start_time": "2025-02-10T23:55:15.875171Z"
    },
    "collapsed": false,
    "jupyter": {
     "outputs_hidden": false
    }
   },
   "outputs": [],
   "source": [
    "# Generate PSF file paths\n",
    "PSF_filepaths = [f\"PATH_TO_PSF_FILES/{z:.0f}.tif\" for z in zPlanes]"
   ]
  },
  {
   "cell_type": "code",
   "execution_count": null,
   "metadata": {
    "ExecuteTime": {
     "end_time": "2025-02-10T23:55:48.148495Z",
     "start_time": "2025-02-10T23:55:15.902020Z"
    }
   },
   "outputs": [],
   "source": [
    "# ReadPSF Stack, all PSFs put in a single 3D array\n",
    "# Optional Argument 'clip' sets any intensity below (clip*max_value) to zero\n",
    "# Found to be important for experimental images with noise\n",
    "PSFstack, (L, M, N) = ReadPSFstack(PSF_filepaths, dtype=DataType, shift=True, clip=0.05)\n",
    "# if the PSFs are centered (They should be) the shift Parameter performs an FFT shift on them\n",
    "# they become ucentered so that the reconstruction is\n",
    "\n",
    "# L = NUMBER OF Z PLANES\n",
    "# M = NUMBER OF ROWS\n",
    "# N = NUMBER OF COLUMNS\n",
    "\n",
    "print(f\"Stack Shape: ({L} x {M} x {N})\")"
   ]
  },
  {
   "cell_type": "markdown",
   "metadata": {
    "collapsed": false,
    "jupyter": {
     "outputs_hidden": false
    }
   },
   "source": [
    "# Import Raw Images for Reconstruction"
   ]
  },
  {
   "cell_type": "code",
   "execution_count": null,
   "metadata": {
    "ExecuteTime": {
     "end_time": "2025-02-10T23:55:48.218748Z",
     "start_time": "2025-02-10T23:55:48.159468Z"
    },
    "collapsed": false,
    "jupyter": {
     "outputs_hidden": false
    }
   },
   "outputs": [],
   "source": [
    "RawImageFileName = \"PATH_TO_IMAGE_TO_RECONSTRUCT\"\n",
    "IMG = ReadRawImage(RawImageFileName, DataType, invert=True)"
   ]
  },
  {
   "cell_type": "markdown",
   "metadata": {
    "collapsed": false,
    "jupyter": {
     "outputs_hidden": false
    }
   },
   "source": [
    "# Create Blank Volume"
   ]
  },
  {
   "cell_type": "code",
   "execution_count": null,
   "metadata": {
    "ExecuteTime": {
     "end_time": "2025-02-10T23:55:48.235436Z",
     "start_time": "2025-02-10T23:55:48.231145Z"
    },
    "collapsed": false,
    "jupyter": {
     "outputs_hidden": false
    }
   },
   "outputs": [],
   "source": [
    "def FillVol(L, M, N, EmptyVol, Radius, OffsetH = 0, OffsetV=0):\n",
    "\n",
    "    # EmptyVol = np.zeros((self.nz, self.ny, self.nx), dtype=dtype)\n",
    "    EmptyVol[:, :, :] = 1.0\n",
    "\n",
    "    xpx = np.arange(0, N) - N//2 - OffsetH\n",
    "    ypx = np.arange(0, M) - M//2 + OffsetV\n",
    "\n",
    "    Xpx, Ypx = np.meshgrid(xpx, ypx)\n",
    "    \n",
    "    # Masks the space to a region around the center\n",
    "\n",
    "    # ValidSpace = (Xpx**2 + Ypx**2) < (Radius**2) # Circular region\n",
    "    ValidSpace = (np.abs(Xpx) < Radius) * (np.abs(Ypx) < Radius) # Square region\n",
    "    # ValidSpace = (np.abs(Xpx) < 3/2*Radius)*(np.abs(Ypx) < Radius) # Rectangular region\n",
    "\n",
    "    for i in range(L):\n",
    "        EmptyVol[i, :, :] *= (ValidSpace) #.astype(dtype))"
   ]
  },
  {
   "cell_type": "code",
   "execution_count": null,
   "metadata": {
    "ExecuteTime": {
     "end_time": "2025-02-10T23:55:49.105997Z",
     "start_time": "2025-02-10T23:55:48.247385Z"
    },
    "collapsed": false,
    "jupyter": {
     "outputs_hidden": false
    }
   },
   "outputs": [],
   "source": [
    "VOL = np_empty_16byteAligned((L, M, N), DataType)\n",
    "VOL[:, :, :] = 0.0\n",
    "\n",
    "FillVol(L, M, N, VOL, EI_radius, OffsetH = HorizontalOffset, OffsetV = VerticalOffset)\n",
    "ROI_j = (M//2 - EI_radius - VerticalOffset, M//2 + EI_radius + 1 - VerticalOffset)\n",
    "ROI_i = (N//2 - EI_radius + HorizontalOffset, N//2 + EI_radius + 1 + HorizontalOffset)"
   ]
  },
  {
   "cell_type": "markdown",
   "metadata": {},
   "source": [
    "## Create Image Mask using PSFs\n",
    "\n",
    "Found to be important for numerical stability to mask image regions outside of elemental images\n",
    "\n",
    "Can also manually specify a mask to use\n",
    "If one has been made previously it will use that one"
   ]
  },
  {
   "cell_type": "code",
   "execution_count": null,
   "metadata": {
    "ExecuteTime": {
     "end_time": "2025-02-10T23:55:49.121166Z",
     "start_time": "2025-02-10T23:55:49.118301Z"
    }
   },
   "outputs": [],
   "source": [
    "from RLD import ProjF_noFT\n",
    "\n",
    "def CreateMask(EmptyVol, PSF):\n",
    "\n",
    "    FP = ProjF_noFT(EmptyVol, PSF)\n",
    "\n",
    "    return FP / L"
   ]
  },
  {
   "cell_type": "code",
   "execution_count": null,
   "metadata": {
    "ExecuteTime": {
     "end_time": "2025-02-10T23:56:18.247516Z",
     "start_time": "2025-02-10T23:55:49.140255Z"
    }
   },
   "outputs": [],
   "source": [
    "Mask = None\n",
    "\n",
    "if 'Mask' in locals():\n",
    "    Mask = CreateMask(VOL, PSFstack)\n",
    "    Mask = Mask > (2**-15) #0.01*Mask.max()\n",
    "    imwrite(f\"{'.'.join(PSF_filepaths[0].split('.')[:-1])}_MASK_{FLAG}.png\", Mask.astype(np.uint8))\n",
    "elif Mask.split('.')[-1] == \".npy\":\n",
    "    Mask = np.load(Mask)\n",
    "else:\n",
    "    Mask = ReadRawImage(Mask, DataType)"
   ]
  },
  {
   "cell_type": "code",
   "execution_count": null,
   "metadata": {
    "ExecuteTime": {
     "end_time": "2025-02-10T23:56:18.633579Z",
     "start_time": "2025-02-10T23:56:18.253502Z"
    }
   },
   "outputs": [],
   "source": [
    "# show the generated mask\n",
    "\n",
    "fig, ax = plt.subplots()\n",
    "ax.set_title(\"Mask\")\n",
    "ax.imshow(Mask)"
   ]
  },
  {
   "cell_type": "markdown",
   "metadata": {},
   "source": [
    "## Apply Mask to the Image\n",
    "This is for numerical stability stuff"
   ]
  },
  {
   "cell_type": "code",
   "execution_count": null,
   "metadata": {
    "ExecuteTime": {
     "end_time": "2025-02-10T23:56:18.655157Z",
     "start_time": "2025-02-10T23:56:18.645791Z"
    }
   },
   "outputs": [],
   "source": [
    "IMG *= Mask"
   ]
  },
  {
   "cell_type": "markdown",
   "metadata": {
    "collapsed": false,
    "jupyter": {
     "outputs_hidden": false
    }
   },
   "source": [
    "# Reconstruct"
   ]
  },
  {
   "cell_type": "code",
   "execution_count": null,
   "metadata": {
    "ExecuteTime": {
     "end_time": "2025-02-10T23:56:18.669347Z",
     "start_time": "2025-02-10T23:56:18.666214Z"
    },
    "collapsed": false,
    "jupyter": {
     "outputs_hidden": false
    }
   },
   "outputs": [],
   "source": [
    "# t0 = perf_counter()\n",
    "# RLD(VOL, PSFstack, IMG, ITERS)\n",
    "# tf = perf_counter()\n",
    "# print(f\"RLD w/ C++ Time: {tf-t0} sec\")"
   ]
  },
  {
   "cell_type": "code",
   "execution_count": null,
   "metadata": {
    "ExecuteTime": {
     "end_time": "2025-02-10T23:59:27.531178Z",
     "start_time": "2025-02-10T23:59:26.982700Z"
    }
   },
   "outputs": [],
   "source": [
    "# If any one of these conditions are met the RLD output is invalid\n",
    "# Try reurunning all the cells from PSFstack creation down\n",
    "# When a new volume size is run for the first time it usually fails\n",
    "# I sort of know why this is, but in a more real way I don't\n",
    "\n",
    "if VOL.min() < -1e-16:\n",
    "    raise ValueError(f\"RLD output is negative, minimum = {VOL.min()} at {VOL.argmin()}\")\n",
    "if VOL.max() == 0:\n",
    "    if PSFstack.max() == 0:\n",
    "        raise ValueError(\"RLD output and PSF are all zero\")\n",
    "    raise ValueError(\"RLD output all zeros\")\n",
    "if np.isnan(VOL).any():\n",
    "    raise ValueError(\"RLD output has NaNs\")"
   ]
  },
  {
   "cell_type": "markdown",
   "metadata": {},
   "source": [
    "## Reprojection vs Original Image"
   ]
  },
  {
   "cell_type": "code",
   "execution_count": null,
   "metadata": {
    "ExecuteTime": {
     "end_time": "2025-02-10T23:59:59.464597Z",
     "start_time": "2025-02-10T23:59:27.531178Z"
    }
   },
   "outputs": [],
   "source": [
    "fig, ax = plt.subplots(3, 1, figsize=(10, 24), dpi=350)\n",
    "\n",
    "\n",
    "vmin, vmax = IMG.min(), IMG.max()\n",
    "\n",
    "ax[0].set_title(\"original\")\n",
    "ax[0].imshow(IMG)\n",
    "\n",
    "\n",
    "FP = ProjF_noFT(VOL, PSFstack)\n",
    "ax[1].set_title(\"Reconstruction Projection\")\n",
    "ax[1].imshow(FP)\n",
    "\n",
    "ax[2].set_title(\"Difference\")\n",
    "cb = ax[2].imshow(np.log2(IMG/FP), cmap='Spectral')\n",
    "fig.colorbar(cb, ax=ax[2])"
   ]
  },
  {
   "cell_type": "markdown",
   "metadata": {
    "collapsed": false,
    "jupyter": {
     "outputs_hidden": false
    }
   },
   "source": [
    "# Export Volumes as Arrays"
   ]
  },
  {
   "cell_type": "code",
   "execution_count": null,
   "metadata": {
    "ExecuteTime": {
     "end_time": "2025-02-10T23:59:59.661663Z",
     "start_time": "2025-02-10T23:59:59.476675Z"
    }
   },
   "outputs": [],
   "source": [
    "VOL_crop = VOL[:, ROI_j[0]:ROI_j[1], ROI_i[0]:ROI_i[1]]"
   ]
  },
  {
   "cell_type": "markdown",
   "metadata": {},
   "source": [
    "## As Image Stack \n",
    "(Intensities Adjusted)"
   ]
  },
  {
   "cell_type": "code",
   "execution_count": null,
   "metadata": {
    "ExecuteTime": {
     "end_time": "2025-02-10T23:59:59.677395Z",
     "start_time": "2025-02-10T23:59:59.674081Z"
    }
   },
   "outputs": [],
   "source": [
    "from cv2 import imwrite\n",
    "from os import mkdir\n",
    "\n",
    "from datetime import datetime\n",
    "now = datetime.now()\n",
    "RunTime = now.strftime(\"%Y_%m_%d_%H.%M.%S\")"
   ]
  },
  {
   "cell_type": "code",
   "execution_count": null,
   "metadata": {
    "ExecuteTime": {
     "end_time": "2025-02-11T00:00:01.231536Z",
     "start_time": "2025-02-10T23:59:59.688555Z"
    }
   },
   "outputs": [],
   "source": [
    "bit_depth = 16\n",
    "\n",
    "# Normalize Intensity to make use of the bit depth\n",
    "VOL_crop /= VOL_crop.max()\n",
    "VOL_crop *= (2**(16) - 1)\n",
    "\n",
    "RawImgPathFolder = f\"{'.'.join(RawImageFileName.split('.')[:-1])}\"\n",
    "\n",
    "try: mkdir(RawImgPathFolder)\n",
    "except FileExistsError: pass\n",
    "\n",
    "try: mkdir(f\"{RawImgPathFolder}/zStack_{RunTime}_{FLAG}\")\n",
    "except FileExistsError: pass\n",
    "\n",
    "for k in range(L):\n",
    "    Slice = VOL_crop[k, :, :].astype(np.uint16)\n",
    "\n",
    "    zOffset = zPlanes[0]\n",
    "\n",
    "    imwrite(f\"{RawImgPathFolder}/zStack_{RunTime}_{FLAG}/z{k:03d}.tif\", Slice)\n",
    "\n",
    "np.savez(f\"{RawImgPathFolder}/log.npz\", Z=zPlanes, VerticalOffset=VerticalOffset, HorizontalOffset=HorizontalOffset,\n",
    "         z_min = z_min, z_max = z_max, z_step=z_step, ITERS = ITERS, EI_radius=EI_radius)"
   ]
  },
  {
   "cell_type": "markdown",
   "metadata": {},
   "source": [
    "## As compressed numpy Array"
   ]
  },
  {
   "cell_type": "code",
   "execution_count": null,
   "metadata": {
    "ExecuteTime": {
     "end_time": "2025-02-11T00:00:01.244751Z",
     "start_time": "2025-02-11T00:00:01.241218Z"
    }
   },
   "outputs": [],
   "source": [
    "# np.savez_compressed(f\"{RawImgPathFolder}/3D_RLD.npz\", Volume=VOL_crop)"
   ]
  }
 ],
 "metadata": {
  "kernelspec": {
   "display_name": "img-env",
   "language": "python",
   "name": "python3"
  },
  "language_info": {
   "codemirror_mode": {
    "name": "ipython",
    "version": 3
   },
   "file_extension": ".py",
   "mimetype": "text/x-python",
   "name": "python",
   "nbconvert_exporter": "python",
   "pygments_lexer": "ipython3",
   "version": "3.11.9"
  }
 },
 "nbformat": 4,
 "nbformat_minor": 4
}
